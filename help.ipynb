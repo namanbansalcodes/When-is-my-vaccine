{
 "metadata": {
  "language_info": {
   "codemirror_mode": {
    "name": "ipython",
    "version": 3
   },
   "file_extension": ".py",
   "mimetype": "text/x-python",
   "name": "python",
   "nbconvert_exporter": "python",
   "pygments_lexer": "ipython3",
   "version": "3.7.4"
  },
  "orig_nbformat": 2,
  "kernelspec": {
   "name": "python374jvsc74a57bd0b3ba2566441a7c06988d0923437866b63cedc61552a5af99d1f4fb67d367b25f",
   "display_name": "Python 3.7.4 64-bit ('base': conda)"
  },
  "metadata": {
   "interpreter": {
    "hash": "b3ba2566441a7c06988d0923437866b63cedc61552a5af99d1f4fb67d367b25f"
   }
  }
 },
 "nbformat": 4,
 "nbformat_minor": 2,
 "cells": [
  {
   "cell_type": "code",
   "execution_count": 2,
   "metadata": {},
   "outputs": [],
   "source": [
    "import requests\n",
    "from requests_futures.sessions import FuturesSession\n",
    "from requests_futures import sessions\n",
    "import json\n",
    "import psycopg2\n",
    "from psycopg2 import Error\n",
    "import pandas.io.sql as psql\n",
    "import pandas as pd\n",
    "from datetime import datetime, timedelta"
   ]
  },
  {
   "cell_type": "code",
   "execution_count": 41,
   "metadata": {},
   "outputs": [
    {
     "output_type": "stream",
     "name": "stdout",
     "text": [
      "Connected!\n"
     ]
    }
   ],
   "source": [
    "headers={'User-Agent': 'Mozilla/5.0 (Macintosh; Intel Mac OS X 10_10_1) AppleWebKit/537.36 (KHTML, like Gecko) Chrome/39.0.2171.95 Safari/537.36'}\n",
    "\n",
    "try:\n",
    "    conn = psycopg2.connect(dbname='dfpglck7sd4deq', user='vfpfcrcywbbppp',\n",
    "                            password='2306588cdf3b2662603049a475863835f2ac89cdd52af890323a181d0405601c',\n",
    "                            host='ec2-52-0-114-209.compute-1.amazonaws.com', port='5432', sslmode='require')\n",
    "    cur = conn.cursor()\n",
    "\n",
    "    print('Connected!')\n",
    "\n",
    "except (Exception, Error) as error:\n",
    "    print(\"Error while connecting to PostgreSQL\", error)"
   ]
  },
  {
   "cell_type": "code",
   "execution_count": 43,
   "metadata": {},
   "outputs": [],
   "source": [
    "def check(params):\n",
    "    session = sessions.FuturesSession(max_workers=1)\n",
    "    futures = [session.get(url=\"https://cdn-api.co-vin.in/api/v2/appointment/sessions/public/findByPin\",headers=headers, params=p) for p in  params]\n",
    "    for f in futures:\n",
    "        f.result()\n",
    "\n",
    "    session.close()\n",
    "    \n",
    "    return futures"
   ]
  },
  {
   "cell_type": "code",
   "execution_count": 44,
   "metadata": {},
   "outputs": [
    {
     "output_type": "stream",
     "name": "stdout",
     "text": [
      "0\n1\n2\n3\n4\n5\n6\n7\n"
     ]
    }
   ],
   "source": [
    "table = psql.read_sql('SELECT * FROM home_customer', conn)\r\n",
    "\r\n",
    "pins=table.pin.unique()\r\n",
    "avail = [0 for i in range(len(pins))]\r\n",
    "\r\n",
    "current = []\r\n",
    "for pin in pins:\r\n",
    "    current.append(table[table['pin']==pin]['flag2'].values[0])\r\n",
    "\r\n",
    "params=[]\r\n",
    "date = datetime.today()\r\n",
    "\r\n",
    "for pin in pins:\r\n",
    "    params.append({'pincode': str(pin), 'date': str(date.strftime(\"%d-%m-%Y\"))})\r\n",
    "\r\n",
    "responses = check(params) \r\n",
    "\r\n",
    "count=0\r\n",
    "for i in range(len(pins)):\r\n",
    "    res = responses[i].result().json()\r\n",
    "\r\n",
    "\r\n",
    "    print(count)\r\n",
    "    count+=1\r\n",
    "\r\n",
    "    if list(res.keys())[0]=='sessions':\r\n",
    "        if len(res['sessions'])!=0:\r\n",
    "            for session in res['sessions']:\r\n",
    "                for j in range(len(session)):\r\n",
    "                    if session['available_capacity'] > 0 and session['min_age_limit']==18:\r\n",
    "                        avail[i] = 1\r\n",
    "\r\n",
    "\r\n",
    "    elif list(res.keys())[0]=='centers':\r\n",
    "        if len(res['centers'])!=0:\r\n",
    "            for center in res['centers']:\r\n",
    "                for j in range(len(center['sessions'])):\r\n",
    "                    if center['sessions'][j]['available_capacity'] > 0 and center['sessions'][j]['min_age_limit']==18:\r\n",
    "                        avail[i] = 1"
   ]
  },
  {
   "cell_type": "code",
   "execution_count": 47,
   "metadata": {},
   "outputs": [],
   "source": [
    "\n",
    "for i in range(len(pins)):\n",
    "    if avail[i]!=current[i]:\n",
    "        if avail[i]>current[i]:\n",
    "            people = table[table['pin']==pins[i]]\n",
    "\n",
    "            for j in range(len(people)):\n",
    "                            requests.post(\n",
    "                                \"https://api.mailgun.net/v3/whenismyvaccine.in/messages\",\n",
    "                                auth=(\"api\", \"83c8481eed353ca9d76bbdd3101a2b33-2a9a428a-5bb25d17\"),\n",
    "                                data={\"from\": \"When is my vaccine? <alerts@whenismyvaccine.in>\",\n",
    "                                    \"to\": people[j]['email'].values[0],\n",
    "                                    \"subject\": \"Thank for registering to WhenIsMyVaccine\",\n",
    "                                    \"text\": f\"Hello {email}, \\n Vaccines are available in your area. For pin: {pin}\"})\n",
    "\n",
    "            cur.execute(f'UPDATE home_customer SET flag1=1, flag2=1 WHERE pin={pins[i]};')\n",
    "            conn.commit()\n",
    "            \n",
    "\n",
    "        elif avail[i]<current[i]:\n",
    "            cur.execute(f'UPDATE home_customer SET flag1=0, flag2=0 WHERE pin={pins[i]};')\n",
    "            conn.commit()\n",
    "\n",
    "\n",
    "        elif avail[i]==1:\n",
    "            peope = table[table['pin']==pins[i] and (table['flag2']==1 and table['flag1']==0)]\n",
    "\n",
    "            for person in people:\n",
    "                requests.post(\n",
    "                                \"https://api.mailgun.net/v3/whenismyvaccine.in/messages\",\n",
    "                                auth=(\"api\", \"83c8481eed353ca9d76bbdd3101a2b33-2a9a428a-5bb25d17\"),\n",
    "                                data={\"from\": \"When is my vaccine? <alerts@whenismyvaccine.in>\",\n",
    "                                    \"to\": people[j]['email'].values[0],\n",
    "                                    \"subject\": \"Thank for registering to WhenIsMyVaccine\",\n",
    "                                    \"text\": f\"Hello {email}, \\n Vaccines are available in your area. For pin: {pin}\"})\n",
    "\n",
    "            cur.execute(f'UPDATE home_customer SET flag1=1 WHERE flag1=0 and pin={pins[i]};')\n",
    "            conn.commit()\n"
   ]
  }
 ]
}