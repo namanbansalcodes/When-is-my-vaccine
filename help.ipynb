{
 "metadata": {
  "language_info": {
   "codemirror_mode": {
    "name": "ipython",
    "version": 3
   },
   "file_extension": ".py",
   "mimetype": "text/x-python",
   "name": "python",
   "nbconvert_exporter": "python",
   "pygments_lexer": "ipython3",
   "version": "3.7.4"
  },
  "orig_nbformat": 2,
  "kernelspec": {
   "name": "python374jvsc74a57bd0b3ba2566441a7c06988d0923437866b63cedc61552a5af99d1f4fb67d367b25f",
   "display_name": "Python 3.7.4 64-bit ('base': conda)"
  },
  "metadata": {
   "interpreter": {
    "hash": "b3ba2566441a7c06988d0923437866b63cedc61552a5af99d1f4fb67d367b25f"
   }
  }
 },
 "nbformat": 4,
 "nbformat_minor": 2,
 "cells": [
  {
   "cell_type": "code",
   "execution_count": 2,
   "metadata": {},
   "outputs": [],
   "source": [
    "import requests\n",
    "from requests_futures.sessions import FuturesSession\n",
    "from requests_futures import sessions\n",
    "import json\n",
    "import psycopg2\n",
    "from psycopg2 import Error\n",
    "import pandas.io.sql as psql\n",
    "import pandas as pd\n",
    "from datetime import datetime, timedelta\n",
    "import time"
   ]
  },
  {
   "cell_type": "code",
   "execution_count": 3,
   "metadata": {},
   "outputs": [],
   "source": [
    "headers = {\n",
    "    'User-Agent': 'Mozilla/5.0 (Macintosh; Intel Mac OS X 10_10_1) AppleWebKit/537.36 (KHTML, like Gecko) Chrome/39.0.2171.95 Safari/537.36'}\n",
    "\n",
    "\n",
    "def check(params):\n",
    "    session = sessions.FuturesSession(max_workers=6)\n",
    "    futures = [session.get(url=\"https://cdn-api.co-vin.in/api/v2/appointment/sessions/public/findByPin\",\n",
    "                           headers=headers, params=p) for p in params]\n",
    "    for f in futures:\n",
    "        f.result()\n",
    "\n",
    "    session.close()\n",
    "\n",
    "    return futures\n"
   ]
  },
  {
   "cell_type": "code",
   "execution_count": 4,
   "metadata": {},
   "outputs": [
    {
     "output_type": "stream",
     "name": "stdout",
     "text": [
      "Error while connecting to PostgreSQL SSL connection has been closed unexpectedly\n\n"
     ]
    },
    {
     "output_type": "error",
     "ename": "NameError",
     "evalue": "name 'conn' is not defined",
     "traceback": [
      "\u001b[1;31m---------------------------------------------------------------------------\u001b[0m",
      "\u001b[1;31mNameError\u001b[0m                                 Traceback (most recent call last)",
      "\u001b[1;32m<ipython-input-4-8b69a5a61e77>\u001b[0m in \u001b[0;36m<module>\u001b[1;34m\u001b[0m\n\u001b[0;32m     14\u001b[0m \u001b[1;33m\u001b[0m\u001b[0m\n\u001b[0;32m     15\u001b[0m \u001b[1;33m\u001b[0m\u001b[0m\n\u001b[1;32m---> 16\u001b[1;33m     \u001b[0mtables\u001b[0m \u001b[1;33m=\u001b[0m \u001b[0mpsql\u001b[0m\u001b[1;33m.\u001b[0m\u001b[0mread_sql\u001b[0m\u001b[1;33m(\u001b[0m\u001b[1;34m'SELECT * FROM home_customer'\u001b[0m\u001b[1;33m,\u001b[0m \u001b[0mconn\u001b[0m\u001b[1;33m)\u001b[0m\u001b[1;33m\u001b[0m\u001b[1;33m\u001b[0m\u001b[0m\n\u001b[0m\u001b[0;32m     17\u001b[0m     \u001b[0mtables\u001b[0m \u001b[1;33m=\u001b[0m \u001b[0mtables\u001b[0m\u001b[1;33m.\u001b[0m\u001b[0msort_values\u001b[0m\u001b[1;33m(\u001b[0m\u001b[0mby\u001b[0m\u001b[1;33m=\u001b[0m\u001b[1;34m'pin'\u001b[0m\u001b[1;33m)\u001b[0m\u001b[1;33m\u001b[0m\u001b[1;33m\u001b[0m\u001b[0m\n\u001b[0;32m     18\u001b[0m \u001b[1;33m\u001b[0m\u001b[0m\n",
      "\u001b[1;31mNameError\u001b[0m: name 'conn' is not defined"
     ]
    }
   ],
   "source": [
    "x=150\n",
    "\n",
    "while True:    \n",
    "    try:\n",
    "        conn = psycopg2.connect(dbname='dfpglck7sd4deq', user='vfpfcrcywbbppp',\n",
    "                                password='2306588cdf3b2662603049a475863835f2ac89cdd52af890323a181d0405601c',\n",
    "                                host='ec2-52-0-114-209.compute-1.amazonaws.com', port='5432', sslmode='require')\n",
    "        cur = conn.cursor()\n",
    "\n",
    "        print('Connected!')\n",
    "\n",
    "    except (Exception, Error) as error:\n",
    "        print(\"Error while connecting to PostgreSQL\", error)\n",
    "\n",
    "\n",
    "    tables = psql.read_sql('SELECT * FROM home_customer', conn)\n",
    "    tables = tables.sort_values(by='pin')\n",
    "\n",
    "\n",
    "    for z in range(len(tables)//x + 1):\n",
    "        time.sleep(300)\n",
    "\n",
    "        table = tables.iloc[z*x:z*x+x]\n",
    "\n",
    "        pins = table.pin.unique()\n",
    "        avail = [0 for i in range(len(pins))]\n",
    "        current = []\n",
    "\n",
    "        for pin in pins:\n",
    "            current.append(table[table['pin'] == pin]['flag2'].values[0])\n",
    "\n",
    "        params = []\n",
    "        date = datetime.today()\n",
    "\n",
    "        for pin in pins:\n",
    "            params.append(\n",
    "                {'pincode': str(pin), 'date': str(date.strftime(\"%d-%m-%Y\"))})\n",
    "\n",
    "        responses = check(params)\n",
    "\n",
    "        for i in range(len(pins)):\n",
    "            res = responses[i].result().json()\n",
    "\n",
    "            if list(res.keys())[0] == 'sessions':\n",
    "                if len(res['sessions']) != 0:\n",
    "                    for session in res['sessions']:\n",
    "                        for j in range(len(session)):\n",
    "                            if session['available_capacity'] > 0 and session['min_age_limit'] == 18:\n",
    "                                avail[i] = 1\n",
    "\n",
    "            elif list(res.keys())[0] == 'centers':\n",
    "                if len(res['centers']) != 0:\n",
    "                    for center in res['centers']:\n",
    "                        for j in range(len(center['sessions'])):\n",
    "                            if center['sessions'][j]['available_capacity'] > 0 and center['sessions'][j]['min_age_limit'] == 18:\n",
    "                                avail[i] = 1\n",
    "\n",
    "\n",
    "        for i in range(len(pins)):\n",
    "            if avail[i] != current[i]:\n",
    "                if avail[i] > current[i]:\n",
    "                    emails = table[table['pin'] == pins[i]]['email'].values\n",
    "\n",
    "                    for email in emails:\n",
    "                        print(f'{pins[i]} {email} Sent')\n",
    "                        requests.post(\n",
    "                            \"https://api.mailgun.net/v3/whenismyvaccine.in/messages\",\n",
    "                            auth=(\"api\", \"83c8481eed353ca9d76bbdd3101a2b33-2a9a428a-5bb25d17\"),\n",
    "                            data={\"from\": \"When is my vaccine? <alerts@whenismyvaccine.in>\",\n",
    "                                \"to\": email,\n",
    "                                \"subject\": \"Thank for registering to WhenIsMyVaccine\",\n",
    "                                \"text\": f\"Hello {email}, \\n Vaccines are available in your area. For pin: {pins[i]}\"})\n",
    "\n",
    "                    cur.execute(\n",
    "                        f'UPDATE home_customer SET flag1=1, flag2=1 WHERE pin={pins[i]};')\n",
    "                    conn.commit()\n",
    "\n",
    "                elif avail[i] < current[i]:\n",
    "                    print(f'{pins[i]} {email} Unflagged')\n",
    "                    cur.execute(\n",
    "                        f'UPDATE home_customer SET flag1=0, flag2=0 WHERE pin={pins[i]};')\n",
    "                    conn.commit()\n",
    "\n",
    "            elif avail[i] == 1:\n",
    "                try:\n",
    "                    emails = table[table['pin'] == pins[i] and (\n",
    "                        table['flag2'] == 1 and table['flag1'] == 0)]['email'].values\n",
    "\n",
    "\n",
    "                    for email in emails:\n",
    "                        print(f'{pins[i]} {email}')\n",
    "                        requests.post(\n",
    "                            \"https://api.mailgun.net/v3/whenismyvaccine.in/messages\",\n",
    "                            auth=(\n",
    "                                \"api\", \"83c8481eed353ca9d76bbdd3101a2b33-2a9a428a-5bb25d17\"),\n",
    "                            data={\"from\": \"When is my vaccine? <alerts@whenismyvaccine.in>\",\n",
    "                                \"to\": email,\n",
    "                                \"subject\": \"Thank for registering to WhenIsMyVaccine\",\n",
    "                                \"text\": f\"Hello {email}, \\n Vaccines are available in your area. For pin: {pins[i]}\"})\n",
    "\n",
    "                    cur.execute(\n",
    "                        f'UPDATE home_customer SET flag1=1 WHERE flag1=0 and pin={pins[i]};')\n",
    "                    conn.commit()\n",
    "                \n",
    "                except ValueError:\n",
    "                    pass\n",
    "\n",
    "\n",
    "    print(\"*\"*100)\n"
   ]
  },
  {
   "cell_type": "code",
   "execution_count": null,
   "metadata": {},
   "outputs": [],
   "source": [
    "try:\n",
    "    conn = psycopg2.connect(dbname='dfpglck7sd4deq', user='vfpfcrcywbbppp',\n",
    "                            password='2306588cdf3b2662603049a475863835f2ac89cdd52af890323a181d0405601c',\n",
    "                            host='ec2-52-0-114-209.compute-1.amazonaws.com', port='5432', sslmode='require')\n",
    "    cur = conn.cursor()\n",
    "\n",
    "    print('Connected!')\n",
    "\n",
    "except (Exception, Error) as error:\n",
    "    print(\"Error while connecting to PostgreSQL\", error)\n",
    "\n",
    "table = psql.read_sql('SELECT * FROM home_customer', conn)"
   ]
  },
  {
   "cell_type": "code",
   "execution_count": 73,
   "metadata": {},
   "outputs": [],
   "source": [
    "pins = table.pin.unique()\n",
    "avail = [0 for i in range(len(pins))]\n",
    "\n",
    "current = []\n",
    "\n",
    "for pin in pins:\n",
    "    current.append(table[table['pin'] == pin]['flag2'].values[0])"
   ]
  },
  {
   "cell_type": "code",
   "execution_count": 82,
   "metadata": {},
   "outputs": [],
   "source": [
    "params = []\n",
    "date = datetime.today()\n",
    "\n",
    "for pin in pins:\n",
    "    params.append(\n",
    "        {'pincode': str(pin), 'date': str(date.strftime(\"%d-%m-%Y\"))})"
   ]
  },
  {
   "cell_type": "code",
   "execution_count": 90,
   "metadata": {},
   "outputs": [],
   "source": [
    "responses = check(params)\n",
    "\n",
    "for i in range(len(pins)):\n",
    "    res = responses[i].result().json()\n",
    "\n",
    "    if list(res.keys())[0] == 'sessions':\n",
    "        if len(res['sessions']) != 0:\n",
    "            for session in res['sessions']:\n",
    "                for j in range(len(session)):\n",
    "                    if session['available_capacity'] > 0 and session['min_age_limit'] == 18:\n",
    "                        avail[i] = 1\n",
    "    \n",
    "    elif list(res.keys())[0] == 'centers':\n",
    "                if len(res['centers']) != 0:\n",
    "                    for center in res['centers']:\n",
    "                        for j in range(len(center['sessions'])):\n",
    "                            if center['sessions'][j]['available_capacity'] > 0 and center['sessions'][j]['min_age_limit'] == 18:\n",
    "                                avail[i] = 1"
   ]
  },
  {
   "cell_type": "code",
   "execution_count": 127,
   "metadata": {},
   "outputs": [
    {
     "output_type": "stream",
     "name": "stdout",
     "text": [
      "0\n",
      "1\n",
      "2\n",
      "3\n",
      "4\n",
      "5\n",
      "6\n",
      "7\n",
      "8\n",
      "9\n",
      "10\n",
      "11\n",
      "12\n",
      "13\n",
      "14\n",
      "15\n",
      "16\n",
      "17\n",
      "18\n",
      "19\n",
      "20\n",
      "21\n",
      "22\n",
      "23\n",
      "24\n",
      "25\n",
      "26\n",
      "27\n",
      "28\n",
      "29\n",
      "30\n",
      "31\n",
      "32\n",
      "33\n",
      "34\n",
      "35\n",
      "36\n",
      "37\n",
      "38\n",
      "39\n",
      "40\n",
      "41\n",
      "42\n",
      "43\n",
      "122001 7ganushkam1999@gmail.com\n",
      "44\n",
      "45\n",
      "46\n",
      "47\n",
      "48\n",
      "49\n",
      "50\n",
      "51\n",
      "52\n"
     ]
    }
   ],
   "source": [
    "for i in range(len(pins)):\n",
    "    print(i)\n",
    "    \n",
    "    if avail[i] != current[i]:\n",
    "        if avail[i] > current[i]:\n",
    "            emails = table[table['pin'] == pins[i]]['email'].values\n",
    "\n",
    "            for email in emails:\n",
    "                print(f'{pins[i]} {email}')\n",
    "                '''requests.post(\n",
    "                    \"https://api.mailgun.net/v3/whenismyvaccine.in/messages\",\n",
    "                    auth=(\"api\", \"83c8481eed353ca9d76bbdd3101a2b33-2a9a428a-5bb25d17\"),\n",
    "                    data={\"from\": \"When is my vaccine? <alerts@whenismyvaccine.in>\",\n",
    "                        \"to\": email,\n",
    "                        \"subject\": \"Thank for registering to WhenIsMyVaccine\",\n",
    "                        \"text\": f\"Hello {email}, \\n Vaccines are available in your area. For pin: {pins[i]}\"})'''\n",
    "\n",
    "            cur.execute(\n",
    "                f'UPDATE home_customer SET flag1=1, flag2=1 WHERE pin={pins[i]};')\n",
    "            conn.commit()\n",
    "\n",
    "        elif avail[i] < current[i]:\n",
    "            cur.execute(\n",
    "                f'UPDATE home_customer SET flag1=0, flag2=0 WHERE pin={pins[i]};')\n",
    "            conn.commit()\n",
    "\n",
    "    elif avail[i] == 1:\n",
    "        print(f'{pins[i]} {email}')\n",
    "        \n",
    "        emails = table[table['pin'] == pins[i] and (\n",
    "            table['flag2'] == 1 and table['flag1'] == 0)]['email'].values\n",
    "\n",
    "        for email in emails:\n",
    "            requests.post(\n",
    "                \"https://api.mailgun.net/v3/whenismyvaccine.in/messages\",\n",
    "                auth=(\n",
    "                    \"api\", \"83c8481eed353ca9d76bbdd3101a2b33-2a9a428a-5bb25d17\"),\n",
    "                data={\"from\": \"When is my vaccine? <alerts@whenismyvaccine.in>\",\n",
    "                    \"to\": email,\n",
    "                    \"subject\": \"Thank for registering to WhenIsMyVaccine\",\n",
    "                    \"text\": f\"Hello {email}, \\n Vaccines are available in your area. For pin: {pins[i]}\"})\n",
    "\n",
    "        cur.execute(\n",
    "            f'UPDATE home_customer SET flag1=1 WHERE flag1=0 and pin={pins[i]};')\n",
    "        conn.commit()\n"
   ]
  },
  {
   "cell_type": "code",
   "execution_count": 122,
   "metadata": {},
   "outputs": [
    {
     "output_type": "execute_result",
     "data": {
      "text/plain": [
       "55    7ganushkam1999@gmail.com\n",
       "Name: email, dtype: object"
      ]
     },
     "metadata": {},
     "execution_count": 122
    }
   ],
   "source": [
    "table[table['pin'] == pins[43]]['email']"
   ]
  },
  {
   "cell_type": "code",
   "execution_count": 20,
   "metadata": {},
   "outputs": [
    {
     "output_type": "stream",
     "name": "stdout",
     "text": [
      "0\n1\n"
     ]
    }
   ],
   "source": [
    "for i in range(len(table)//100):\n",
    "    print(i)"
   ]
  },
  {
   "cell_type": "code",
   "execution_count": null,
   "metadata": {},
   "outputs": [],
   "source": [
    "tables.sort_values(by='pin')"
   ]
  }
 ]
}