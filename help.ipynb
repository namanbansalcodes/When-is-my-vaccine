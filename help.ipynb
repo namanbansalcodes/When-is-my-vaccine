{
 "metadata": {
  "language_info": {
   "codemirror_mode": {
    "name": "ipython",
    "version": 3
   },
   "file_extension": ".py",
   "mimetype": "text/x-python",
   "name": "python",
   "nbconvert_exporter": "python",
   "pygments_lexer": "ipython3",
   "version": "3.7.4"
  },
  "orig_nbformat": 2,
  "kernelspec": {
   "name": "python374jvsc74a57bd0b3ba2566441a7c06988d0923437866b63cedc61552a5af99d1f4fb67d367b25f",
   "display_name": "Python 3.7.4 64-bit ('base': conda)"
  },
  "metadata": {
   "interpreter": {
    "hash": "b3ba2566441a7c06988d0923437866b63cedc61552a5af99d1f4fb67d367b25f"
   }
  }
 },
 "nbformat": 4,
 "nbformat_minor": 2,
 "cells": [
  {
   "cell_type": "code",
   "execution_count": 1,
   "metadata": {},
   "outputs": [],
   "source": [
    "import requests\n",
    "from requests_futures.sessions import FuturesSession\n",
    "from requests_futures import sessions\n",
    "import json\n",
    "import psycopg2\n",
    "from psycopg2 import Error\n",
    "import pandas.io.sql as psql\n",
    "import pandas as pd\n",
    "from datetime import datetime, timedelta"
   ]
  },
  {
   "cell_type": "code",
   "execution_count": 142,
   "metadata": {},
   "outputs": [
    {
     "output_type": "stream",
     "name": "stdout",
     "text": [
      "Connected!\n"
     ]
    }
   ],
   "source": [
    "try:\n",
    "    conn = psycopg2.connect(dbname='d6nl8uste5t3fk', user='igtnybsnftnmqu',\n",
    "                            password='ea76fc1725bd520b7f79115893279cf4905791f85140bd7af0bf677ee8a4dc3f',\n",
    "                            host='ec2-54-166-167-192.compute-1.amazonaws.com', port='5432', sslmode='require')\n",
    "    cur = conn.cursor()\n",
    "\n",
    "    print('Connected!')\n",
    "\n",
    "except (Exception, Error) as error:\n",
    "    print(\"Error while connecting to PostgreSQL\", error)"
   ]
  },
  {
   "cell_type": "code",
   "execution_count": 3,
   "metadata": {},
   "outputs": [],
   "source": [
    "table = psql.read_sql('SELECT * FROM home_customer', conn)"
   ]
  },
  {
   "cell_type": "code",
   "execution_count": 4,
   "metadata": {},
   "outputs": [],
   "source": [
    "def check(params):\n",
    "    session = sessions.FuturesSession(max_workers=3)\n",
    "    futures = [session.get(url=\"https://cdn-api.co-vin.in/api/v2/appointment/sessions/public/calendarByPin\", params=p) for p in  params]\n",
    "    for f in futures:\n",
    "        f.result()\n",
    "\n",
    "    session.close()\n",
    "    \n",
    "    return futures"
   ]
  },
  {
   "cell_type": "code",
   "execution_count": 85,
   "metadata": {},
   "outputs": [],
   "source": [
    "pins=table.pin.unique()\r\n",
    "avail = [0 for i in range(len(pins))]\r\n",
    "\r\n",
    "current = []\r\n",
    "for pin in pins:\r\n",
    "    current.append(table[table['pin']==pin]['flag2'].values[0])\r\n",
    "\r\n",
    "for i in range(7):\r\n",
    "    params=[]\r\n",
    "    date = datetime.today() + timedelta(i)\r\n",
    "\r\n",
    "    for pin in pins:\r\n",
    "        params.append({'pincode': str(pin), 'date': str(date.strftime(\"%d-%m-%Y\"))})\r\n",
    "\r\n",
    "    responses = check(params) \r\n",
    "\r\n",
    "\r\n",
    "    for i in range(len(pins)):\r\n",
    "        res = responses[i].result().json()\r\n",
    "        \r\n",
    "        if len(res)!=0:\r\n",
    "            for center in res['centers']:\r\n",
    "                for j in range(len(center['sessions'])):\r\n",
    "                    if center['sessions'][j]['available_capacity'] > 0 and center['sessions'][j]['min_age_limit']==18:\r\n",
    "                        avail[i] = 1"
   ]
  },
  {
   "cell_type": "code",
   "execution_count": 110,
   "metadata": {},
   "outputs": [],
   "source": [
    "for i in range(len(pins)):\n",
    "    if avail[i]!=current[i]:\n",
    "        if avail[i]>current[i]:\n",
    "            #when vaccine becomes available\n",
    "\n",
    "            #send sms ki vaccine aa gayi hai\n",
    "            cur.execute(f'UPDATE home_customer SET flag1=1, flag2=1 WHERE pin={pins[i]};')\n",
    "            cur.commit()\n",
    "            \n",
    "\n",
    "        elif avail[i]<current[i]:\n",
    "            #when vaccine becomes unavailable\n",
    "\n",
    "            #change flag2 everywhere to 0\n",
    "            cur.execute(f'UPDATE home_customer SET flag1=0, flag2=0 WHERE pin={pins[i]};')\n",
    "            cur.commit()\n",
    "\n",
    "        elif avail[i]=1:\n",
    "            #send sms to all with flag2=1 and flag1=0\n",
    "            cur.execute(f'UPDATE home_customer SET flag1=1 WHERE flag1=0 and pin={pins[i]};')"
   ]
  },
  {
   "cell_type": "code",
   "execution_count": 145,
   "metadata": {},
   "outputs": [],
   "source": [
    "x=requests.post('http://2factor.in/API/V1/293832-67745-11e5-88de-5600000c6b13/ADDON_SERVICES/SEND/PSMS',\n",
    "            data = {\n",
    "                'From'  :   'ABCDEF',\n",
    "                'Msg'   :   'Hello boi',\n",
    "                'To'    :   '7588860475'\n",
    "            }\n",
    "            )"
   ]
  },
  {
   "cell_type": "code",
   "execution_count": 147,
   "metadata": {},
   "outputs": [
    {
     "output_type": "execute_result",
     "data": {
      "text/plain": [
       "{'Status': 'Error', 'Details': 'Invalid API Key'}"
      ]
     },
     "metadata": {},
     "execution_count": 147
    }
   ],
   "source": [
    "x.json()"
   ]
  }
 ]
}