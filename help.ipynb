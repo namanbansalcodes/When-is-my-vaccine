{
 "metadata": {
  "language_info": {
   "codemirror_mode": {
    "name": "ipython",
    "version": 3
   },
   "file_extension": ".py",
   "mimetype": "text/x-python",
   "name": "python",
   "nbconvert_exporter": "python",
   "pygments_lexer": "ipython3",
   "version": "3.7.4"
  },
  "orig_nbformat": 2,
  "kernelspec": {
   "name": "python374jvsc74a57bd0b3ba2566441a7c06988d0923437866b63cedc61552a5af99d1f4fb67d367b25f",
   "display_name": "Python 3.7.4 64-bit ('base': conda)"
  },
  "metadata": {
   "interpreter": {
    "hash": "b3ba2566441a7c06988d0923437866b63cedc61552a5af99d1f4fb67d367b25f"
   }
  }
 },
 "nbformat": 4,
 "nbformat_minor": 2,
 "cells": [
  {
   "cell_type": "code",
   "execution_count": 65,
   "metadata": {},
   "outputs": [],
   "source": [
    "import requests\n",
    "from requests_futures.sessions import FuturesSession\n",
    "from requests_futures import sessions\n",
    "import json\n",
    "import psycopg2\n",
    "from psycopg2 import Error\n",
    "import pandas.io.sql as psql\n",
    "import pandas as pd\n",
    "from datetime import datetime, timedelta"
   ]
  },
  {
   "cell_type": "code",
   "execution_count": 67,
   "metadata": {},
   "outputs": [],
   "source": [
    "headers = {\n",
    "    'User-Agent': 'Mozilla/5.0 (Macintosh; Intel Mac OS X 10_10_1) AppleWebKit/537.36 (KHTML, like Gecko) Chrome/39.0.2171.95 Safari/537.36'}\n",
    "\n",
    "\n",
    "def check(params):\n",
    "    session = sessions.FuturesSession(max_workers=6)\n",
    "    futures = [session.get(url=\"https://cdn-api.co-vin.in/api/v2/appointment/sessions/public/findByPin\",\n",
    "                           headers=headers, params=p) for p in params]\n",
    "    for f in futures:\n",
    "        f.result()\n",
    "\n",
    "    session.close()\n",
    "\n",
    "    return futures\n"
   ]
  },
  {
   "cell_type": "code",
   "execution_count": null,
   "metadata": {},
   "outputs": [],
   "source": [
    "while True:\n",
    "    try:\n",
    "        conn = psycopg2.connect(dbname='dfpglck7sd4deq', user='vfpfcrcywbbppp',\n",
    "                                password='2306588cdf3b2662603049a475863835f2ac89cdd52af890323a181d0405601c',\n",
    "                                host='ec2-52-0-114-209.compute-1.amazonaws.com', port='5432', sslmode='require')\n",
    "        cur = conn.cursor()\n",
    "\n",
    "        print('Connected!')\n",
    "\n",
    "    except (Exception, Error) as error:\n",
    "        print(\"Error while connecting to PostgreSQL\", error)\n",
    "\n",
    "    table = psql.read_sql('SELECT * FROM home_customer', conn)\n",
    "\n",
    "    pins = table.pin.unique()\n",
    "    avail = [0 for i in range(len(pins))]\n",
    "\n",
    "    current = []\n",
    "    \n",
    "    for pin in pins:\n",
    "        current.append(table[table['pin'] == pin]['flag2'].values[0])\n",
    "\n",
    "    params = []\n",
    "    date = datetime.today()\n",
    "\n",
    "    for pin in pins:\n",
    "        params.append(\n",
    "            {'pincode': str(pin), 'date': str(date.strftime(\"%d-%m-%Y\"))})\n",
    "\n",
    "    responses = check(params)\n",
    "\n",
    "    for i in range(len(pins)):\n",
    "        res = responses[i].result().json()\n",
    "\n",
    "        if list(res.keys())[0] == 'sessions':\n",
    "            if len(res['sessions']) != 0:\n",
    "                for session in res['sessions']:\n",
    "                    for j in range(len(session)):\n",
    "                        if session['available_capacity'] > 0 and session['min_age_limit'] == 18:\n",
    "                            avail[i] = 1\n",
    "\n",
    "        elif list(res.keys())[0] == 'centers':\n",
    "            if len(res['centers']) != 0:\n",
    "                for center in res['centers']:\n",
    "                    for j in range(len(center['sessions'])):\n",
    "                        if center['sessions'][j]['available_capacity'] > 0 and center['sessions'][j]['min_age_limit'] == 18:\n",
    "                            avail[i] = 1\n",
    "\n",
    "\n",
    "    for i in range(len(pins)):\n",
    "        if avail[i] != current[i]:\n",
    "            if avail[i] > current[i]:\n",
    "                emails = table[table['pin'] == pins[i]]['email'].values\n",
    "\n",
    "                for email in emails:\n",
    "                    print(f'{pin} {email}')\n",
    "                    requests.post(\n",
    "                        \"https://api.mailgun.net/v3/whenismyvaccine.in/messages\",\n",
    "                        auth=(\"api\", \"83c8481eed353ca9d76bbdd3101a2b33-2a9a428a-5bb25d17\"),\n",
    "                        data={\"from\": \"When is my vaccine? <alerts@whenismyvaccine.in>\",\n",
    "                            \"to\": email,\n",
    "                            \"subject\": \"Thank for registering to WhenIsMyVaccine\",\n",
    "                            \"text\": f\"Hello {email}, \\n Vaccines are available in your area. For pin: {pin}\"})\n",
    "\n",
    "                cur.execute(\n",
    "                    f'UPDATE home_customer SET flag1=1, flag2=1 WHERE pin={pins[i]};')\n",
    "                conn.commit()\n",
    "\n",
    "            elif avail[i] < current[i]:\n",
    "                cur.execute(\n",
    "                    f'UPDATE home_customer SET flag1=0, flag2=0 WHERE pin={pins[i]};')\n",
    "                conn.commit()\n",
    "\n",
    "            elif avail[i] == 1:\n",
    "                print(f'{pin} {email}')\n",
    "                \n",
    "                emails = table[table['pin'] == pins[i] and (\n",
    "                    table['flag2'] == 1 and table['flag1'] == 0)]['email'].values\n",
    "\n",
    "                for email in emails:\n",
    "                    requests.post(\n",
    "                        \"https://api.mailgun.net/v3/whenismyvaccine.in/messages\",\n",
    "                        auth=(\n",
    "                            \"api\", \"83c8481eed353ca9d76bbdd3101a2b33-2a9a428a-5bb25d17\"),\n",
    "                        data={\"from\": \"When is my vaccine? <alerts@whenismyvaccine.in>\",\n",
    "                            \"to\": email,\n",
    "                            \"subject\": \"Thank for registering to WhenIsMyVaccine\",\n",
    "                            \"text\": f\"Hello {email}, \\n Vaccines are available in your area. For pin: {pin}\"})\n",
    "\n",
    "                cur.execute(\n",
    "                    f'UPDATE home_customer SET flag1=1 WHERE flag1=0 and pin={pins[i]};')\n",
    "                conn.commit()\n",
    "\n",
    "\n",
    "    time.sleep(180)"
   ]
  },
  {
   "cell_type": "code",
   "execution_count": 70,
   "metadata": {},
   "outputs": [
    {
     "output_type": "stream",
     "name": "stdout",
     "text": [
      "Connected!\n"
     ]
    }
   ],
   "source": [
    "try:\n",
    "    conn = psycopg2.connect(dbname='dfpglck7sd4deq', user='vfpfcrcywbbppp',\n",
    "                            password='2306588cdf3b2662603049a475863835f2ac89cdd52af890323a181d0405601c',\n",
    "                            host='ec2-52-0-114-209.compute-1.amazonaws.com', port='5432', sslmode='require')\n",
    "    cur = conn.cursor()\n",
    "\n",
    "    print('Connected!')\n",
    "\n",
    "except (Exception, Error) as error:\n",
    "    print(\"Error while connecting to PostgreSQL\", error)\n",
    "\n",
    "table = psql.read_sql('SELECT * FROM home_customer', conn)"
   ]
  },
  {
   "cell_type": "code",
   "execution_count": 71,
   "metadata": {},
   "outputs": [
    {
     "output_type": "execute_result",
     "data": {
      "text/plain": [
       "                                      id     pin  flag1  flag2  \\\n",
       "0   10156270-8400-418d-a2b4-e4e24b39d10a  400064      0      0   \n",
       "1   6e32aa33-64b3-4d5f-81a9-bc8d2b424d1a  324009      0      0   \n",
       "2   e4aeef96-b2f9-4d28-adcf-882eb6ad0bb9  226006      0      0   \n",
       "3   914b12c5-4790-465f-b481-0b6020daea37  400706      0      0   \n",
       "4   d8585f16-b263-41bc-9f20-1986041f955e  452001      0      0   \n",
       "..                                   ...     ...    ...    ...   \n",
       "65  8f7a6f3c-81dc-4fc7-8c55-ea767aa052a3  451447      0      0   \n",
       "66  fe79d4b5-8f6e-4132-84e9-1a93a5085982  451449      0      0   \n",
       "67  c00bf977-b067-442f-8d3e-5abea78971f0  451770      0      0   \n",
       "68  3a114c6c-2ad9-41fb-9a4b-07662257681d  444001      0      0   \n",
       "69  c37efd4a-c015-4451-84a5-1b587cd66233  444303      0      0   \n",
       "\n",
       "                            email       phone  \n",
       "0         strayking2811@gmail.com  8169011347  \n",
       "1   anshul.singhvi84@nmims.edu.in  8112248828  \n",
       "2          saahilyadav7@gmail.com  7985820523  \n",
       "3         archit10.1999@gmail.com  +919702070  \n",
       "4          chikkiajmera@gmail.com  9511290293  \n",
       "..                            ...         ...  \n",
       "65         radhika87308@gmail.com  9522187308  \n",
       "66         radhika87308@gmail.com  9522187308  \n",
       "67         radhika87308@gmail.com  9522187308  \n",
       "68             atuld801@gmail.com  9960138802  \n",
       "69         gandhiyash37@gmail.com  9370747467  \n",
       "\n",
       "[70 rows x 6 columns]"
      ],
      "text/html": "<div>\n<style scoped>\n    .dataframe tbody tr th:only-of-type {\n        vertical-align: middle;\n    }\n\n    .dataframe tbody tr th {\n        vertical-align: top;\n    }\n\n    .dataframe thead th {\n        text-align: right;\n    }\n</style>\n<table border=\"1\" class=\"dataframe\">\n  <thead>\n    <tr style=\"text-align: right;\">\n      <th></th>\n      <th>id</th>\n      <th>pin</th>\n      <th>flag1</th>\n      <th>flag2</th>\n      <th>email</th>\n      <th>phone</th>\n    </tr>\n  </thead>\n  <tbody>\n    <tr>\n      <td>0</td>\n      <td>10156270-8400-418d-a2b4-e4e24b39d10a</td>\n      <td>400064</td>\n      <td>0</td>\n      <td>0</td>\n      <td>strayking2811@gmail.com</td>\n      <td>8169011347</td>\n    </tr>\n    <tr>\n      <td>1</td>\n      <td>6e32aa33-64b3-4d5f-81a9-bc8d2b424d1a</td>\n      <td>324009</td>\n      <td>0</td>\n      <td>0</td>\n      <td>anshul.singhvi84@nmims.edu.in</td>\n      <td>8112248828</td>\n    </tr>\n    <tr>\n      <td>2</td>\n      <td>e4aeef96-b2f9-4d28-adcf-882eb6ad0bb9</td>\n      <td>226006</td>\n      <td>0</td>\n      <td>0</td>\n      <td>saahilyadav7@gmail.com</td>\n      <td>7985820523</td>\n    </tr>\n    <tr>\n      <td>3</td>\n      <td>914b12c5-4790-465f-b481-0b6020daea37</td>\n      <td>400706</td>\n      <td>0</td>\n      <td>0</td>\n      <td>archit10.1999@gmail.com</td>\n      <td>+919702070</td>\n    </tr>\n    <tr>\n      <td>4</td>\n      <td>d8585f16-b263-41bc-9f20-1986041f955e</td>\n      <td>452001</td>\n      <td>0</td>\n      <td>0</td>\n      <td>chikkiajmera@gmail.com</td>\n      <td>9511290293</td>\n    </tr>\n    <tr>\n      <td>...</td>\n      <td>...</td>\n      <td>...</td>\n      <td>...</td>\n      <td>...</td>\n      <td>...</td>\n      <td>...</td>\n    </tr>\n    <tr>\n      <td>65</td>\n      <td>8f7a6f3c-81dc-4fc7-8c55-ea767aa052a3</td>\n      <td>451447</td>\n      <td>0</td>\n      <td>0</td>\n      <td>radhika87308@gmail.com</td>\n      <td>9522187308</td>\n    </tr>\n    <tr>\n      <td>66</td>\n      <td>fe79d4b5-8f6e-4132-84e9-1a93a5085982</td>\n      <td>451449</td>\n      <td>0</td>\n      <td>0</td>\n      <td>radhika87308@gmail.com</td>\n      <td>9522187308</td>\n    </tr>\n    <tr>\n      <td>67</td>\n      <td>c00bf977-b067-442f-8d3e-5abea78971f0</td>\n      <td>451770</td>\n      <td>0</td>\n      <td>0</td>\n      <td>radhika87308@gmail.com</td>\n      <td>9522187308</td>\n    </tr>\n    <tr>\n      <td>68</td>\n      <td>3a114c6c-2ad9-41fb-9a4b-07662257681d</td>\n      <td>444001</td>\n      <td>0</td>\n      <td>0</td>\n      <td>atuld801@gmail.com</td>\n      <td>9960138802</td>\n    </tr>\n    <tr>\n      <td>69</td>\n      <td>c37efd4a-c015-4451-84a5-1b587cd66233</td>\n      <td>444303</td>\n      <td>0</td>\n      <td>0</td>\n      <td>gandhiyash37@gmail.com</td>\n      <td>9370747467</td>\n    </tr>\n  </tbody>\n</table>\n<p>70 rows × 6 columns</p>\n</div>"
     },
     "metadata": {},
     "execution_count": 71
    }
   ],
   "source": [
    "table"
   ]
  },
  {
   "cell_type": "code",
   "execution_count": 73,
   "metadata": {},
   "outputs": [],
   "source": [
    "pins = table.pin.unique()\n",
    "avail = [0 for i in range(len(pins))]\n",
    "\n",
    "current = []\n",
    "\n",
    "for pin in pins:\n",
    "    current.append(table[table['pin'] == pin]['flag2'].values[0])"
   ]
  },
  {
   "cell_type": "code",
   "execution_count": 82,
   "metadata": {},
   "outputs": [],
   "source": [
    "params = []\n",
    "date = datetime.today()\n",
    "\n",
    "for pin in pins:\n",
    "    params.append(\n",
    "        {'pincode': str(pin), 'date': str(date.strftime(\"%d-%m-%Y\"))})"
   ]
  },
  {
   "cell_type": "code",
   "execution_count": 90,
   "metadata": {},
   "outputs": [],
   "source": [
    "responses = check(params)\n",
    "\n",
    "for i in range(len(pins)):\n",
    "    res = responses[i].result().json()\n",
    "\n",
    "    if list(res.keys())[0] == 'sessions':\n",
    "        if len(res['sessions']) != 0:\n",
    "            for session in res['sessions']:\n",
    "                for j in range(len(session)):\n",
    "                    if session['available_capacity'] > 0 and session['min_age_limit'] == 18:\n",
    "                        avail[i] = 1\n",
    "    \n",
    "    elif list(res.keys())[0] == 'centers':\n",
    "                if len(res['centers']) != 0:\n",
    "                    for center in res['centers']:\n",
    "                        for j in range(len(center['sessions'])):\n",
    "                            if center['sessions'][j]['available_capacity'] > 0 and center['sessions'][j]['min_age_limit'] == 18:\n",
    "                                avail[i] = 1"
   ]
  },
  {
   "cell_type": "code",
   "execution_count": 96,
   "metadata": {},
   "outputs": [
    {
     "output_type": "execute_result",
     "data": {
      "text/plain": [
       "(1, 122001, 0)"
      ]
     },
     "metadata": {},
     "execution_count": 96
    }
   ],
   "source": [
    "avail[-10], pins[-10],current[-10]"
   ]
  },
  {
   "cell_type": "code",
   "execution_count": 101,
   "metadata": {},
   "outputs": [
    {
     "output_type": "stream",
     "name": "stdout",
     "text": [
      "0\n",
      "1\n",
      "2\n",
      "3\n",
      "4\n",
      "5\n",
      "6\n",
      "7\n",
      "8\n",
      "9\n",
      "10\n",
      "11\n",
      "12\n",
      "13\n",
      "14\n",
      "15\n",
      "16\n",
      "17\n",
      "18\n",
      "19\n",
      "20\n",
      "21\n",
      "22\n",
      "23\n",
      "24\n",
      "25\n",
      "26\n",
      "27\n",
      "28\n",
      "29\n",
      "30\n",
      "31\n",
      "32\n",
      "33\n",
      "34\n",
      "35\n",
      "36\n",
      "37\n",
      "38\n",
      "39\n",
      "40\n",
      "41\n",
      "42\n",
      "43\n",
      "444303 7ganushkam1999@gmail.com\n",
      "44\n",
      "45\n",
      "46\n",
      "47\n",
      "48\n",
      "49\n",
      "50\n",
      "51\n",
      "52\n"
     ]
    }
   ],
   "source": [
    "for i in range(len(pins)):\n",
    "    print(i)\n",
    "    \n",
    "    if avail[i] != current[i]:\n",
    "        if avail[i] > current[i]:\n",
    "            emails = table[table['pin'] == pins[i]]['email'].values\n",
    "\n",
    "            for email in emails:\n",
    "                print(f'{pin} {email}')\n",
    "                '''requests.post(\n",
    "                    \"https://api.mailgun.net/v3/whenismyvaccine.in/messages\",\n",
    "                    auth=(\"api\", \"83c8481eed353ca9d76bbdd3101a2b33-2a9a428a-5bb25d17\"),\n",
    "                    data={\"from\": \"When is my vaccine? <alerts@whenismyvaccine.in>\",\n",
    "                        \"to\": email,\n",
    "                        \"subject\": \"Thank for registering to WhenIsMyVaccine\",\n",
    "                        \"text\": f\"Hello {email}, \\n Vaccines are available in your area. For pin: {pin}\"})'''\n",
    "\n",
    "            cur.execute(\n",
    "                f'UPDATE home_customer SET flag1=1, flag2=1 WHERE pin={pins[i]};')\n",
    "            conn.commit()\n",
    "\n",
    "        elif avail[i] < current[i]:\n",
    "            cur.execute(\n",
    "                f'UPDATE home_customer SET flag1=0, flag2=0 WHERE pin={pins[i]};')\n",
    "            conn.commit()\n",
    "\n",
    "    elif avail[i] == 1:\n",
    "        print(f'{pin} {email}')\n",
    "        \n",
    "        emails = table[table['pin'] == pins[i] and (\n",
    "            table['flag2'] == 1 and table['flag1'] == 0)]['email'].values\n",
    "\n",
    "        '''for email in emails:\n",
    "            requests.post(\n",
    "                \"https://api.mailgun.net/v3/whenismyvaccine.in/messages\",\n",
    "                auth=(\n",
    "                    \"api\", \"83c8481eed353ca9d76bbdd3101a2b33-2a9a428a-5bb25d17\"),\n",
    "                data={\"from\": \"When is my vaccine? <alerts@whenismyvaccine.in>\",\n",
    "                    \"to\": email,\n",
    "                    \"subject\": \"Thank for registering to WhenIsMyVaccine\",\n",
    "                    \"text\": f\"Hello {email}, \\n Vaccines are available in your area. For pin: {pin}\"})\n",
    "'''\n",
    "        cur.execute(\n",
    "            f'UPDATE home_customer SET flag1=1 WHERE flag1=0 and pin={pins[i]};')\n",
    "        conn.commit()\n"
   ]
  },
  {
   "cell_type": "code",
   "execution_count": 111,
   "metadata": {},
   "outputs": [
    {
     "output_type": "execute_result",
     "data": {
      "text/plain": [
       "                                      id     pin  flag1  flag2  \\\n",
       "40  3f7828e6-b038-4508-864c-918b8049e067  302018      0      0   \n",
       "41  30d37d44-61c0-4b55-87a3-394c1a97a126  302020      0      0   \n",
       "42  e277ebf1-9de2-4005-a335-b5f526a5d2ec  422101      0      0   \n",
       "43  914265e9-b93b-46a6-a82d-2b10976ad7d0  444001      0      0   \n",
       "44  9a3d2b71-5a45-4330-91a4-af9ef06142f8  458441      0      0   \n",
       "45  33c1bf30-18a8-4861-aac6-1be8322eb0db  302004      0      0   \n",
       "46  e8877413-8492-4d97-b344-114de9e888ba  400097      0      0   \n",
       "47  f87e762a-be7a-4ba6-bb66-d1f19174a64e  400096      0      0   \n",
       "48  ef165d51-a9a5-421b-b573-ded0cdd0387a  400095      0      0   \n",
       "49  aeeadbd3-c57b-42ac-9a74-cd834fa71931  400094      0      0   \n",
       "\n",
       "                       email       phone  \n",
       "40       01namit01@gmail.com  9782376397  \n",
       "41       01namit01@gmail.com  9782376397  \n",
       "42  ajay.patkar.13@gmail.com  8485005698  \n",
       "43      harshvak98@gmail.com  7276717678  \n",
       "44     aaaikansh22@gmail.com  9521208345  \n",
       "45       01namit01@gmail.com  9782376397  \n",
       "46        aukhemka@gmail.com  8652550002  \n",
       "47        aukhemka@gmail.com  8652550002  \n",
       "48        aukhemka@gmail.com  8652550002  \n",
       "49        aukhemka@gmail.com  8652550002  "
      ],
      "text/html": "<div>\n<style scoped>\n    .dataframe tbody tr th:only-of-type {\n        vertical-align: middle;\n    }\n\n    .dataframe tbody tr th {\n        vertical-align: top;\n    }\n\n    .dataframe thead th {\n        text-align: right;\n    }\n</style>\n<table border=\"1\" class=\"dataframe\">\n  <thead>\n    <tr style=\"text-align: right;\">\n      <th></th>\n      <th>id</th>\n      <th>pin</th>\n      <th>flag1</th>\n      <th>flag2</th>\n      <th>email</th>\n      <th>phone</th>\n    </tr>\n  </thead>\n  <tbody>\n    <tr>\n      <td>40</td>\n      <td>3f7828e6-b038-4508-864c-918b8049e067</td>\n      <td>302018</td>\n      <td>0</td>\n      <td>0</td>\n      <td>01namit01@gmail.com</td>\n      <td>9782376397</td>\n    </tr>\n    <tr>\n      <td>41</td>\n      <td>30d37d44-61c0-4b55-87a3-394c1a97a126</td>\n      <td>302020</td>\n      <td>0</td>\n      <td>0</td>\n      <td>01namit01@gmail.com</td>\n      <td>9782376397</td>\n    </tr>\n    <tr>\n      <td>42</td>\n      <td>e277ebf1-9de2-4005-a335-b5f526a5d2ec</td>\n      <td>422101</td>\n      <td>0</td>\n      <td>0</td>\n      <td>ajay.patkar.13@gmail.com</td>\n      <td>8485005698</td>\n    </tr>\n    <tr>\n      <td>43</td>\n      <td>914265e9-b93b-46a6-a82d-2b10976ad7d0</td>\n      <td>444001</td>\n      <td>0</td>\n      <td>0</td>\n      <td>harshvak98@gmail.com</td>\n      <td>7276717678</td>\n    </tr>\n    <tr>\n      <td>44</td>\n      <td>9a3d2b71-5a45-4330-91a4-af9ef06142f8</td>\n      <td>458441</td>\n      <td>0</td>\n      <td>0</td>\n      <td>aaaikansh22@gmail.com</td>\n      <td>9521208345</td>\n    </tr>\n    <tr>\n      <td>45</td>\n      <td>33c1bf30-18a8-4861-aac6-1be8322eb0db</td>\n      <td>302004</td>\n      <td>0</td>\n      <td>0</td>\n      <td>01namit01@gmail.com</td>\n      <td>9782376397</td>\n    </tr>\n    <tr>\n      <td>46</td>\n      <td>e8877413-8492-4d97-b344-114de9e888ba</td>\n      <td>400097</td>\n      <td>0</td>\n      <td>0</td>\n      <td>aukhemka@gmail.com</td>\n      <td>8652550002</td>\n    </tr>\n    <tr>\n      <td>47</td>\n      <td>f87e762a-be7a-4ba6-bb66-d1f19174a64e</td>\n      <td>400096</td>\n      <td>0</td>\n      <td>0</td>\n      <td>aukhemka@gmail.com</td>\n      <td>8652550002</td>\n    </tr>\n    <tr>\n      <td>48</td>\n      <td>ef165d51-a9a5-421b-b573-ded0cdd0387a</td>\n      <td>400095</td>\n      <td>0</td>\n      <td>0</td>\n      <td>aukhemka@gmail.com</td>\n      <td>8652550002</td>\n    </tr>\n    <tr>\n      <td>49</td>\n      <td>aeeadbd3-c57b-42ac-9a74-cd834fa71931</td>\n      <td>400094</td>\n      <td>0</td>\n      <td>0</td>\n      <td>aukhemka@gmail.com</td>\n      <td>8652550002</td>\n    </tr>\n  </tbody>\n</table>\n</div>"
     },
     "metadata": {},
     "execution_count": 111
    }
   ],
   "source": [
    "table.iloc[40:50]"
   ]
  },
  {
   "cell_type": "code",
   "execution_count": 115,
   "metadata": {},
   "outputs": [
    {
     "output_type": "execute_result",
     "data": {
      "text/plain": [
       "122001"
      ]
     },
     "metadata": {},
     "execution_count": 115
    }
   ],
   "source": [
    "pins[43]"
   ]
  }
 ]
}